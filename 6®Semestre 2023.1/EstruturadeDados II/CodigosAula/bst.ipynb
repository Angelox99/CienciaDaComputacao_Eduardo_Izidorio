{
 "cells": [
  {
   "cell_type": "code",
   "execution_count": 1,
   "metadata": {},
   "outputs": [
    {
     "ename": "KeyboardInterrupt",
     "evalue": "",
     "output_type": "error",
     "traceback": [
      "\u001b[1;31m---------------------------------------------------------------------------\u001b[0m",
      "\u001b[1;31mKeyboardInterrupt\u001b[0m                         Traceback (most recent call last)",
      "Cell \u001b[1;32mIn[1], line 55\u001b[0m\n\u001b[0;32m     53\u001b[0m bst\u001b[39m.\u001b[39minsert(\u001b[39m10\u001b[39m)\n\u001b[0;32m     54\u001b[0m bst\u001b[39m.\u001b[39minsert(\u001b[39m8\u001b[39m)\n\u001b[1;32m---> 55\u001b[0m bst\u001b[39m.\u001b[39;49minsert(\u001b[39m20\u001b[39;49m)\n\u001b[0;32m     56\u001b[0m bst\u001b[39m.\u001b[39minsert(\u001b[39m25\u001b[39m)\n\u001b[0;32m     57\u001b[0m bst\u001b[39m.\u001b[39minsert(\u001b[39m15\u001b[39m)\n",
      "Cell \u001b[1;32mIn[1], line 18\u001b[0m, in \u001b[0;36mtree.insert\u001b[1;34m(self, value)\u001b[0m\n\u001b[0;32m     16\u001b[0m \u001b[39melse\u001b[39;00m:\n\u001b[0;32m     17\u001b[0m     atual \u001b[39m=\u001b[39m \u001b[39mself\u001b[39m\u001b[39m.\u001b[39mroot\n\u001b[1;32m---> 18\u001b[0m     \u001b[39mwhile\u001b[39;00m \u001b[39mTrue\u001b[39;00m: \u001b[39m#Busca lugar vazio\u001b[39;00m\n\u001b[0;32m     19\u001b[0m         anterior \u001b[39m=\u001b[39m atual\n\u001b[0;32m     20\u001b[0m         \u001b[39mif\u001b[39;00m(value \u001b[39m<\u001b[39m atual\u001b[39m.\u001b[39mkey):\n",
      "\u001b[1;31mKeyboardInterrupt\u001b[0m: "
     ]
    }
   ],
   "source": [
    "class No:\n",
    "    def __init__(self, key, left, right):\n",
    "        self.key = key\n",
    "        self.left = left\n",
    "        self.right = right\n",
    "\n",
    "class tree:\n",
    "    def __init__(self):\n",
    "        self.root = No(None, None, None)\n",
    "        self.root = None\n",
    "    def insert(self, value):\n",
    "        newNode = No(value, None, None)\n",
    "        #Árvore vazia novo nó entra como root\n",
    "        if self.root is None:\n",
    "            self.root = newNode\n",
    "        else:\n",
    "            atual = self.root\n",
    "            while True: #Busca lugar vazio\n",
    "                anterior = atual\n",
    "                if(value < atual.key):\n",
    "                    atual = atual.left\n",
    "                    if atual == None:\n",
    "                        anterior.left = newNode\n",
    "                        return\n",
    "                    else:\n",
    "                        atual = atual.right\n",
    "                        if atual == None:\n",
    "                            anterior.right = newNode\n",
    "                            return\n",
    "                \n",
    "    def printTree(self, root):\n",
    "        if(root is not None):\n",
    "            print(root.key, end=\" \")\n",
    "            self.printTree(root.left)\n",
    "            self.printTree(root.right)\n",
    "\n",
    "    def preOrder(self, root):\n",
    "        if(root is not None):\n",
    "            self.preOrder(root.left)\n",
    "            print(root.key, end=\" \")\n",
    "            self.preOrder(root.right)\n",
    "\n",
    "    def inOrder(self, root):\n",
    "        if(root is not None):\n",
    "            self.inOrder(root.left)\n",
    "            print(root.key, end=\" \")\n",
    "            self.inOrder(root.right)\n",
    "    \n",
    "\n",
    "\n",
    "\n",
    "bst = tree()\n",
    "bst.insert(10)\n",
    "bst.insert(8)\n",
    "bst.insert(20)\n",
    "bst.insert(25)\n",
    "bst.insert(15)\n",
    "bst.insert(9)\n",
    "bst.insert(2)\n",
    "\n",
    "bst.printTree(bst.root)\n",
    "print(\"\")\n",
    "bst.inOrder(bst.root)"
   ]
  }
 ],
 "metadata": {
  "kernelspec": {
   "display_name": "Python 3",
   "language": "python",
   "name": "python3"
  },
  "language_info": {
   "codemirror_mode": {
    "name": "ipython",
    "version": 3
   },
   "file_extension": ".py",
   "mimetype": "text/x-python",
   "name": "python",
   "nbconvert_exporter": "python",
   "pygments_lexer": "ipython3",
   "version": "3.11.0"
  },
  "orig_nbformat": 4
 },
 "nbformat": 4,
 "nbformat_minor": 2
}
