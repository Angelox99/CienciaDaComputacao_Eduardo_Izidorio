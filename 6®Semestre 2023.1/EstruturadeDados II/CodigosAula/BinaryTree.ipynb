{
 "cells": [
  {
   "cell_type": "code",
   "execution_count": 1,
   "metadata": {},
   "outputs": [
    {
     "name": "stdout",
     "output_type": "stream",
     "text": [
      "Olá, eu sou o ChatBot: Eduardo\n",
      "Olá, eu sou o ChatBot: Kira\n"
     ]
    }
   ],
   "source": [
    "class Chatbot():\n",
    "    def __init__(self, nome):   #self é um \"objeto\"\n",
    "        self.nome = nome\n",
    "    def fala(self):\n",
    "        print(\"Olá, eu sou o ChatBot: \" + self.nome)\n",
    "\n",
    "a = Chatbot('Eduardo')\n",
    "a.fala()\n",
    "\n",
    "b = Chatbot('Kira')\n",
    "b.fala()\n"
   ]
  },
  {
   "attachments": {},
   "cell_type": "markdown",
   "metadata": {},
   "source": [
    "## Assunto Árvore Binária"
   ]
  },
  {
   "cell_type": "code",
   "execution_count": 8,
   "metadata": {},
   "outputs": [
    {
     "name": "stdout",
     "output_type": "stream",
     "text": [
      "10\n",
      "5\n",
      "25\n"
     ]
    }
   ],
   "source": [
    "class BinaryTree():\n",
    "    def __init__(self, key):\n",
    "        self.key = key\n",
    "        self.left = None\n",
    "        self.right = None\n",
    "\n",
    "    def insert(self, newKey):\n",
    "        newNode = BinaryTree(newKey)\n",
    "        if newNode.key < self.key:\n",
    "            self.left = newNode\n",
    "        else:\n",
    "            self.right = newNode\n",
    "\n",
    "\n",
    "        # if self.left is None:\n",
    "        #     self.left = BinaryTree(newNode)\n",
    "        # else:\n",
    "        #     t = BinaryTree(newNode)\n",
    "        #     t.left = self.left\n",
    "        #     self.left = t\n",
    "\n",
    "    def printTree(self):\n",
    "        print(self.key)\n",
    "        print(self.left.key) if self.left is not None else print('()')\n",
    "        print(self.right.key) if self.right is not None else print('()')\n",
    "\n",
    "\n",
    "raiz = BinaryTree(10)\n",
    "raiz.insert(5)\n",
    "raiz.insert(25)\n",
    "\n",
    "raiz.printTree()\n",
    "\n",
    "\n"
   ]
  }
 ],
 "metadata": {
  "kernelspec": {
   "display_name": "Python 3",
   "language": "python",
   "name": "python3"
  },
  "language_info": {
   "codemirror_mode": {
    "name": "ipython",
    "version": 3
   },
   "file_extension": ".py",
   "mimetype": "text/x-python",
   "name": "python",
   "nbconvert_exporter": "python",
   "pygments_lexer": "ipython3",
   "version": "3.11.0"
  },
  "orig_nbformat": 4
 },
 "nbformat": 4,
 "nbformat_minor": 2
}
