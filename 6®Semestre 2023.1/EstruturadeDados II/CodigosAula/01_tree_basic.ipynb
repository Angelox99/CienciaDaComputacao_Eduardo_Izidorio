{
 "cells": [
  {
   "cell_type": "code",
   "execution_count": 1,
   "metadata": {},
   "outputs": [
    {
     "name": "stdout",
     "output_type": "stream",
     "text": [
      "['a', ['b', ['d', [], []], ['e', [], []]], ['c', [], []]]\n"
     ]
    }
   ],
   "source": [
    "# a = ['a', [], []]\n",
    "# b = ['b', [], []]\n",
    "# c = ['c', [], []]\n",
    "# d = ['d', [], []]\n",
    "# e = ['e', [], []]\n",
    "\n",
    "tree = ['a', ['b', ['d', [], []],  ['e', [], []]], ['c', [], []]]\n",
    "print(tree)\n",
    "\n",
    "def get_leaves(r):\n",
    "  ret = [] \n",
    "\n",
    "get_leaves(tree)\n",
    "# [['c', [], []], ['e', [], []], ['d', [], []]]"
   ]
  }
 ],
 "metadata": {
  "kernelspec": {
   "display_name": "Python 3",
   "language": "python",
   "name": "python3"
  },
  "language_info": {
   "codemirror_mode": {
    "name": "ipython",
    "version": 3
   },
   "file_extension": ".py",
   "mimetype": "text/x-python",
   "name": "python",
   "nbconvert_exporter": "python",
   "pygments_lexer": "ipython3",
   "version": "3.8.10"
  },
  "orig_nbformat": 4
 },
 "nbformat": 4,
 "nbformat_minor": 2
}
